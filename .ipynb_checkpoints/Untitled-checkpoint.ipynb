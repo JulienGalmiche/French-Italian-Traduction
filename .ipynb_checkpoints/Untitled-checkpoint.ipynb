{
 "cells": [
  {
   "cell_type": "code",
   "execution_count": 1,
   "id": "c95a8a22",
   "metadata": {},
   "outputs": [],
   "source": [
    "%load_ext autoreload\n",
    "\n",
    "%autoreload 2\n"
   ]
  },
  {
   "cell_type": "code",
   "execution_count": 2,
   "id": "7d58d785",
   "metadata": {},
   "outputs": [],
   "source": [
    "import os\n",
    "import pathlib\n",
    "import glob\n",
    "\n",
    "import matplotlib.pyplot as plt\n",
    "import numpy as np\n",
    "import seaborn as sns\n",
    "import tensorflow as tf\n",
    "from scipy.io import wavfile\n",
    "\n",
    "from tensorflow.keras.layers.experimental import preprocessing\n",
    "from tensorflow.keras import layers\n",
    "from tensorflow.keras import models\n",
    "from IPython import display\n",
    "\n",
    "\n",
    "# Set seed for experiment reproducibility\n",
    "seed = 42\n",
    "tf.random.set_seed(seed)\n",
    "np.random.seed(seed)\n"
   ]
  },
  {
   "cell_type": "code",
   "execution_count": 2,
   "id": "7989ccb3",
   "metadata": {},
   "outputs": [],
   "source": [
    "WAV_PATH = \"../Italian_Scripted_Speech_Corpus/WAV\""
   ]
  },
  {
   "cell_type": "code",
   "execution_count": 3,
   "id": "043b9f22",
   "metadata": {},
   "outputs": [],
   "source": [
    "wav_list = []\n",
    "for file in os.listdir(WAV_PATH):\n",
    "    wav_list += glob.glob(os.path.join(WAV_PATH, file, \"*.wav\"))\n"
   ]
  },
  {
   "cell_type": "code",
   "execution_count": 4,
   "id": "ff38acfd",
   "metadata": {},
   "outputs": [
    {
     "data": {
      "text/plain": [
       "981"
      ]
     },
     "execution_count": 4,
     "metadata": {},
     "output_type": "execute_result"
    }
   ],
   "source": [
    "len(wav_list)"
   ]
  },
  {
   "cell_type": "code",
   "execution_count": 5,
   "id": "e0a173ee",
   "metadata": {},
   "outputs": [
    {
     "data": {
      "text/plain": [
       "'../Italian_Scripted_Speech_Corpus/WAV/G0018/G0018_0_S0510.wav'"
      ]
     },
     "execution_count": 5,
     "metadata": {},
     "output_type": "execute_result"
    }
   ],
   "source": [
    "wav_list[0]"
   ]
  },
  {
   "cell_type": "code",
   "execution_count": 6,
   "id": "7f14cfcf",
   "metadata": {},
   "outputs": [],
   "source": [
    "samplerate, data = wavfile.read(wav_list[2])"
   ]
  },
  {
   "cell_type": "code",
   "execution_count": 7,
   "id": "0edb458c",
   "metadata": {},
   "outputs": [
    {
     "data": {
      "text/plain": [
       "(56800,)"
      ]
     },
     "execution_count": 7,
     "metadata": {},
     "output_type": "execute_result"
    }
   ],
   "source": [
    "data.shape"
   ]
  },
  {
   "cell_type": "code",
   "execution_count": 8,
   "id": "8c86610b",
   "metadata": {},
   "outputs": [
    {
     "data": {
      "text/plain": [
       "16000"
      ]
     },
     "execution_count": 8,
     "metadata": {},
     "output_type": "execute_result"
    }
   ],
   "source": [
    "samplerate"
   ]
  },
  {
   "cell_type": "code",
   "execution_count": 10,
   "id": "39e05eff",
   "metadata": {},
   "outputs": [],
   "source": [
    "#display.display(display.Audio(data, rate=16000))\n"
   ]
  },
  {
   "cell_type": "code",
   "execution_count": 1,
   "id": "ba217398",
   "metadata": {},
   "outputs": [],
   "source": [
    "from transformer_asr.src.subsampling import *\n",
    "\n",
    "from transformer_asr.src.positional_encoding import *"
   ]
  },
  {
   "cell_type": "code",
   "execution_count": 3,
   "id": "7770ae95",
   "metadata": {},
   "outputs": [],
   "source": [
    "subsampling = Subsampling()"
   ]
  },
  {
   "cell_type": "code",
   "execution_count": null,
   "id": "8423a7b1",
   "metadata": {},
   "outputs": [],
   "source": []
  }
 ],
 "metadata": {
  "kernelspec": {
   "display_name": "Python 3 (ipykernel)",
   "language": "python",
   "name": "python3"
  },
  "language_info": {
   "codemirror_mode": {
    "name": "ipython",
    "version": 3
   },
   "file_extension": ".py",
   "mimetype": "text/x-python",
   "name": "python",
   "nbconvert_exporter": "python",
   "pygments_lexer": "ipython3",
   "version": "3.8.10"
  }
 },
 "nbformat": 4,
 "nbformat_minor": 5
}
